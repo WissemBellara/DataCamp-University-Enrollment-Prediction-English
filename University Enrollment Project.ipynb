{
 "cells": [
  {
   "cell_type": "markdown",
   "metadata": {},
   "source": [
    "<h1 align=\"Center\"> University Enrollement Contribution </h1>\n",
    "<hr>\n",
    "<h2 align=\"right\"> Work Done By : <br> Wissem Bellara </h2>"
   ]
  },
  {
   "cell_type": "markdown",
   "metadata": {},
   "source": [
    "<h3> I. Business Understanding </h3>"
   ]
  },
  {
   "cell_type": "markdown",
   "metadata": {},
   "source": [
    "The university started offering online courses to reach a wider range of students.\n",
    "The university wants you to help them understand enrollment trends.\n",
    "They would like you to identify what contributes to higher enrollment. In particular, whether\n",
    "the course type (online or classroom) is a factor."
   ]
  },
  {
   "cell_type": "markdown",
   "metadata": {},
   "source": [
    "<h3> II. Data Understanding </h3>"
   ]
  },
  {
   "cell_type": "markdown",
   "metadata": {},
   "source": [
    "<h4> 1. Data Exploring </h4>"
   ]
  },
  {
   "cell_type": "code",
   "execution_count": 3,
   "metadata": {},
   "outputs": [],
   "source": [
    "import pandas as pd \n",
    "import numpy as np \n",
    "import seaborn as sns\n",
    "import matplotlib.pyplot as plt\n",
    "import missingno\n",
    "import re"
   ]
  },
  {
   "cell_type": "code",
   "execution_count": 4,
   "metadata": {},
   "outputs": [],
   "source": [
    "df=pd.read_csv('./university_enrollment_2306.csv') #Importing Data"
   ]
  },
  {
   "cell_type": "code",
   "execution_count": 5,
   "metadata": {},
   "outputs": [
    {
     "data": {
      "text/html": [
       "<div>\n",
       "<style scoped>\n",
       "    .dataframe tbody tr th:only-of-type {\n",
       "        vertical-align: middle;\n",
       "    }\n",
       "\n",
       "    .dataframe tbody tr th {\n",
       "        vertical-align: top;\n",
       "    }\n",
       "\n",
       "    .dataframe thead th {\n",
       "        text-align: right;\n",
       "    }\n",
       "</style>\n",
       "<table border=\"1\" class=\"dataframe\">\n",
       "  <thead>\n",
       "    <tr style=\"text-align: right;\">\n",
       "      <th></th>\n",
       "      <th>course_id</th>\n",
       "      <th>course_type</th>\n",
       "      <th>year</th>\n",
       "      <th>enrollment_count</th>\n",
       "      <th>pre_score</th>\n",
       "      <th>post_score</th>\n",
       "      <th>pre_requirement</th>\n",
       "      <th>department</th>\n",
       "    </tr>\n",
       "  </thead>\n",
       "  <tbody>\n",
       "    <tr>\n",
       "      <th>0</th>\n",
       "      <td>1</td>\n",
       "      <td>classroom</td>\n",
       "      <td>2018</td>\n",
       "      <td>165</td>\n",
       "      <td>28.14</td>\n",
       "      <td>73.0</td>\n",
       "      <td>Beginner</td>\n",
       "      <td>Science</td>\n",
       "    </tr>\n",
       "    <tr>\n",
       "      <th>1</th>\n",
       "      <td>2</td>\n",
       "      <td>classroom</td>\n",
       "      <td>2020</td>\n",
       "      <td>175</td>\n",
       "      <td>79.68</td>\n",
       "      <td>86.0</td>\n",
       "      <td>NaN</td>\n",
       "      <td>Science</td>\n",
       "    </tr>\n",
       "    <tr>\n",
       "      <th>2</th>\n",
       "      <td>3</td>\n",
       "      <td>online</td>\n",
       "      <td>2016</td>\n",
       "      <td>257</td>\n",
       "      <td>57.24</td>\n",
       "      <td>80.0</td>\n",
       "      <td>NaN</td>\n",
       "      <td>Mathematics</td>\n",
       "    </tr>\n",
       "    <tr>\n",
       "      <th>3</th>\n",
       "      <td>4</td>\n",
       "      <td>online</td>\n",
       "      <td>2013</td>\n",
       "      <td>251</td>\n",
       "      <td>97.67</td>\n",
       "      <td>75.0</td>\n",
       "      <td>Beginner</td>\n",
       "      <td>Technology</td>\n",
       "    </tr>\n",
       "    <tr>\n",
       "      <th>4</th>\n",
       "      <td>5</td>\n",
       "      <td>classroom</td>\n",
       "      <td>2019</td>\n",
       "      <td>165</td>\n",
       "      <td>39.75</td>\n",
       "      <td>76.0</td>\n",
       "      <td>Beginner</td>\n",
       "      <td>Science</td>\n",
       "    </tr>\n",
       "  </tbody>\n",
       "</table>\n",
       "</div>"
      ],
      "text/plain": [
       "   course_id course_type  year  enrollment_count pre_score  post_score  \\\n",
       "0          1   classroom  2018               165     28.14        73.0   \n",
       "1          2   classroom  2020               175     79.68        86.0   \n",
       "2          3      online  2016               257     57.24        80.0   \n",
       "3          4      online  2013               251     97.67        75.0   \n",
       "4          5   classroom  2019               165     39.75        76.0   \n",
       "\n",
       "  pre_requirement   department  \n",
       "0        Beginner      Science  \n",
       "1             NaN      Science  \n",
       "2             NaN  Mathematics  \n",
       "3        Beginner   Technology  \n",
       "4        Beginner      Science  "
      ]
     },
     "execution_count": 5,
     "metadata": {},
     "output_type": "execute_result"
    }
   ],
   "source": [
    "df.head()"
   ]
  },
  {
   "cell_type": "code",
   "execution_count": 6,
   "metadata": {},
   "outputs": [
    {
     "data": {
      "text/plain": [
       "Index(['course_id', 'course_type', 'year', 'enrollment_count', 'pre_score',\n",
       "       'post_score', 'pre_requirement', 'department'],\n",
       "      dtype='object')"
      ]
     },
     "execution_count": 6,
     "metadata": {},
     "output_type": "execute_result"
    }
   ],
   "source": [
    "df.columns"
   ]
  },
  {
   "cell_type": "code",
   "execution_count": 7,
   "metadata": {},
   "outputs": [
    {
     "data": {
      "text/plain": [
       "(1850, 8)"
      ]
     },
     "execution_count": 7,
     "metadata": {},
     "output_type": "execute_result"
    }
   ],
   "source": [
    "df.shape "
   ]
  },
  {
   "cell_type": "code",
   "execution_count": 8,
   "metadata": {},
   "outputs": [
    {
     "data": {
      "text/html": [
       "<div>\n",
       "<style scoped>\n",
       "    .dataframe tbody tr th:only-of-type {\n",
       "        vertical-align: middle;\n",
       "    }\n",
       "\n",
       "    .dataframe tbody tr th {\n",
       "        vertical-align: top;\n",
       "    }\n",
       "\n",
       "    .dataframe thead th {\n",
       "        text-align: right;\n",
       "    }\n",
       "</style>\n",
       "<table border=\"1\" class=\"dataframe\">\n",
       "  <thead>\n",
       "    <tr style=\"text-align: right;\">\n",
       "      <th></th>\n",
       "      <th>course_id</th>\n",
       "      <th>year</th>\n",
       "      <th>enrollment_count</th>\n",
       "      <th>post_score</th>\n",
       "    </tr>\n",
       "  </thead>\n",
       "  <tbody>\n",
       "    <tr>\n",
       "      <th>count</th>\n",
       "      <td>1850.000000</td>\n",
       "      <td>1850.000000</td>\n",
       "      <td>1850.000000</td>\n",
       "      <td>1665.000000</td>\n",
       "    </tr>\n",
       "    <tr>\n",
       "      <th>mean</th>\n",
       "      <td>925.500000</td>\n",
       "      <td>2016.423784</td>\n",
       "      <td>231.565405</td>\n",
       "      <td>75.204805</td>\n",
       "    </tr>\n",
       "    <tr>\n",
       "      <th>std</th>\n",
       "      <td>534.193317</td>\n",
       "      <td>3.448278</td>\n",
       "      <td>36.987029</td>\n",
       "      <td>8.511981</td>\n",
       "    </tr>\n",
       "    <tr>\n",
       "      <th>min</th>\n",
       "      <td>1.000000</td>\n",
       "      <td>2011.000000</td>\n",
       "      <td>154.000000</td>\n",
       "      <td>51.000000</td>\n",
       "    </tr>\n",
       "    <tr>\n",
       "      <th>25%</th>\n",
       "      <td>463.250000</td>\n",
       "      <td>2013.000000</td>\n",
       "      <td>185.000000</td>\n",
       "      <td>69.000000</td>\n",
       "    </tr>\n",
       "    <tr>\n",
       "      <th>50%</th>\n",
       "      <td>925.500000</td>\n",
       "      <td>2016.000000</td>\n",
       "      <td>251.000000</td>\n",
       "      <td>75.000000</td>\n",
       "    </tr>\n",
       "    <tr>\n",
       "      <th>75%</th>\n",
       "      <td>1387.750000</td>\n",
       "      <td>2019.000000</td>\n",
       "      <td>261.000000</td>\n",
       "      <td>81.000000</td>\n",
       "    </tr>\n",
       "    <tr>\n",
       "      <th>max</th>\n",
       "      <td>1850.000000</td>\n",
       "      <td>2022.000000</td>\n",
       "      <td>267.000000</td>\n",
       "      <td>105.000000</td>\n",
       "    </tr>\n",
       "  </tbody>\n",
       "</table>\n",
       "</div>"
      ],
      "text/plain": [
       "         course_id         year  enrollment_count   post_score\n",
       "count  1850.000000  1850.000000       1850.000000  1665.000000\n",
       "mean    925.500000  2016.423784        231.565405    75.204805\n",
       "std     534.193317     3.448278         36.987029     8.511981\n",
       "min       1.000000  2011.000000        154.000000    51.000000\n",
       "25%     463.250000  2013.000000        185.000000    69.000000\n",
       "50%     925.500000  2016.000000        251.000000    75.000000\n",
       "75%    1387.750000  2019.000000        261.000000    81.000000\n",
       "max    1850.000000  2022.000000        267.000000   105.000000"
      ]
     },
     "execution_count": 8,
     "metadata": {},
     "output_type": "execute_result"
    }
   ],
   "source": [
    "df.describe()"
   ]
  },
  {
   "cell_type": "code",
   "execution_count": 9,
   "metadata": {},
   "outputs": [
    {
     "name": "stdout",
     "output_type": "stream",
     "text": [
      "<class 'pandas.core.frame.DataFrame'>\n",
      "RangeIndex: 1850 entries, 0 to 1849\n",
      "Data columns (total 8 columns):\n",
      " #   Column            Non-Null Count  Dtype  \n",
      "---  ------            --------------  -----  \n",
      " 0   course_id         1850 non-null   int64  \n",
      " 1   course_type       1850 non-null   object \n",
      " 2   year              1850 non-null   int64  \n",
      " 3   enrollment_count  1850 non-null   int64  \n",
      " 4   pre_score         1850 non-null   object \n",
      " 5   post_score        1665 non-null   float64\n",
      " 6   pre_requirement   959 non-null    object \n",
      " 7   department        1850 non-null   object \n",
      "dtypes: float64(1), int64(3), object(4)\n",
      "memory usage: 115.8+ KB\n"
     ]
    }
   ],
   "source": [
    "df.info()"
   ]
  },
  {
   "cell_type": "code",
   "execution_count": 10,
   "metadata": {},
   "outputs": [
    {
     "data": {
      "text/plain": [
       "course_id             0\n",
       "course_type           0\n",
       "year                  0\n",
       "enrollment_count      0\n",
       "pre_score             0\n",
       "post_score          185\n",
       "pre_requirement     891\n",
       "department            0\n",
       "dtype: int64"
      ]
     },
     "execution_count": 10,
     "metadata": {},
     "output_type": "execute_result"
    }
   ],
   "source": [
    "df.isnull().sum()"
   ]
  },
  {
   "cell_type": "markdown",
   "metadata": {},
   "source": [
    "Our Dataset presents 1850 instances and 8 columns which are the following : \n",
    "<ol>\n",
    "<li>course_id : Nominal. The unique identifier of the course.</li>\n",
    "<li>course_type : Nominal. Whether the course is “online” or “classroom” based.</li>\n",
    "<li>year : Discrete. The year the course was offerered. Any year from 2011 to 2022</li>\n",
    "<li>enrollment_count : Discrete. The number of students enrolled onto the course. </li>\n",
    "<li>pre_score : Continuous. The average score of the enrolled students on the pre\n",
    "course exam.</li>\n",
    "<li>post_score : Continuous. The average score of students who complete the course on the post course exam. It presents 185 Null values </li>\n",
    "<li>pre_requirement : Nominal. The previous course completion requirement for students to enroll. One of “None”, “Beginner”, “Intermediate”. It presents 891 Null values </li>\n",
    "<li>department : Nominal. The department of the university offering the course. One of “Science”, “Technology”, “Engineering”, “Mathematics </li>\n",
    "</ol>"
   ]
  },
  {
   "cell_type": "code",
   "execution_count": 11,
   "metadata": {},
   "outputs": [
    {
     "data": {
      "text/plain": [
       "<AxesSubplot: >"
      ]
     },
     "execution_count": 11,
     "metadata": {},
     "output_type": "execute_result"
    },
    {
     "data": {
      "image/png": "[encoded data removed]",
      "text/plain": [
       "<Figure size 1000x500 with 3 Axes>"
      ]
     },
     "metadata": {},
     "output_type": "display_data"
    }
   ],
   "source": [
    "missingno.bar(df,color=(0.5,0,0.25) , figsize= (10,5))"
   ]
  },
  {
   "cell_type": "markdown",
   "metadata": {},
   "source": [
    "<h3> III. Data Cleaning and Preprocessing </h3>"
   ]
  },
  {
   "cell_type": "markdown",
   "metadata": {},
   "source": [
    "<h4> 1. Checking for incoherent data </h4>"
   ]
  },
  {
   "cell_type": "code",
   "execution_count": 12,
   "metadata": {},
   "outputs": [
    {
     "name": "stdout",
     "output_type": "stream",
     "text": [
      "course_id\n",
      "False    1850\n",
      "Name: count, dtype: int64\n"
     ]
    }
   ],
   "source": [
    "print(df.course_id.duplicated().value_counts())"
   ]
  },
  {
   "cell_type": "code",
   "execution_count": 13,
   "metadata": {},
   "outputs": [
    {
     "name": "stdout",
     "output_type": "stream",
     "text": [
      "course_type\n",
      "online       1375\n",
      "classroom     475\n",
      "Name: count, dtype: int64\n"
     ]
    }
   ],
   "source": [
    "print(df.course_type.value_counts(dropna=False))"
   ]
  },
  {
   "cell_type": "code",
   "execution_count": 14,
   "metadata": {},
   "outputs": [
    {
     "name": "stdout",
     "output_type": "stream",
     "text": [
      "year\n",
      "2013    169\n",
      "2012    164\n",
      "2016    162\n",
      "2015    160\n",
      "2021    159\n",
      "2018    156\n",
      "2014    152\n",
      "2022    150\n",
      "2011    148\n",
      "2019    147\n",
      "2017    143\n",
      "2020    140\n",
      "Name: count, dtype: int64\n"
     ]
    }
   ],
   "source": [
    "print(df.year.value_counts(dropna=False))"
   ]
  },
  {
   "cell_type": "code",
   "execution_count": 15,
   "metadata": {},
   "outputs": [
    {
     "name": "stdout",
     "output_type": "stream",
     "text": [
      "enrollment_count\n",
      "261    444\n",
      "251    276\n",
      "256    169\n",
      "241    137\n",
      "246    112\n",
      "170     92\n",
      "165     87\n",
      "180     73\n",
      "175     70\n",
      "155     64\n",
      "231     45\n",
      "257     43\n",
      "236     34\n",
      "185     29\n",
      "266     27\n",
      "247     18\n",
      "255     16\n",
      "181     11\n",
      "252     10\n",
      "160     10\n",
      "242     10\n",
      "190      8\n",
      "171      7\n",
      "245      6\n",
      "156      5\n",
      "232      5\n",
      "237      5\n",
      "169      4\n",
      "161      4\n",
      "248      4\n",
      "258      3\n",
      "267      3\n",
      "240      2\n",
      "235      2\n",
      "182      2\n",
      "176      2\n",
      "179      2\n",
      "159      2\n",
      "238      1\n",
      "154      1\n",
      "250      1\n",
      "249      1\n",
      "166      1\n",
      "164      1\n",
      "262      1\n",
      "Name: count, dtype: int64\n"
     ]
    }
   ],
   "source": [
    "print(df.enrollment_count.value_counts(dropna=False))"
   ]
  },
  {
   "cell_type": "code",
   "execution_count": 16,
   "metadata": {},
   "outputs": [
    {
     "name": "stdout",
     "output_type": "stream",
     "text": [
      "pre_score\n",
      "-        130\n",
      "12.11      3\n",
      "51.95      3\n",
      "18.01      3\n",
      "23.66      3\n",
      "        ... \n",
      "13.76      1\n",
      "33.47      1\n",
      "18.42      1\n",
      "8.23       1\n",
      "17.57      1\n",
      "Name: count, Length: 1594, dtype: int64\n"
     ]
    }
   ],
   "source": [
    "print(df.pre_score.value_counts(dropna=False))"
   ]
  },
  {
   "cell_type": "markdown",
   "metadata": {},
   "source": [
    "We need to change the '-' symbol to be considered as Null "
   ]
  },
  {
   "cell_type": "code",
   "execution_count": 17,
   "metadata": {},
   "outputs": [
    {
     "data": {
      "text/plain": [
       "15      -\n",
       "22      -\n",
       "26      -\n",
       "27      -\n",
       "31      -\n",
       "       ..\n",
       "1768    -\n",
       "1771    -\n",
       "1807    -\n",
       "1811    -\n",
       "1844    -\n",
       "Name: pre_score, Length: 130, dtype: object"
      ]
     },
     "execution_count": 17,
     "metadata": {},
     "output_type": "execute_result"
    }
   ],
   "source": [
    "df['pre_score'][df.pre_score.apply(lambda x: re.search(\"^\\d\",str(x))==None)]"
   ]
  },
  {
   "cell_type": "code",
   "execution_count": 18,
   "metadata": {},
   "outputs": [],
   "source": [
    "df['pre_score']=df.pre_score.replace('-',np.nan)"
   ]
  },
  {
   "cell_type": "code",
   "execution_count": 19,
   "metadata": {},
   "outputs": [],
   "source": [
    "df.pre_score=df.pre_score.astype('float64')"
   ]
  },
  {
   "cell_type": "code",
   "execution_count": 20,
   "metadata": {},
   "outputs": [
    {
     "data": {
      "text/plain": [
       "course_id             int64\n",
       "course_type          object\n",
       "year                  int64\n",
       "enrollment_count      int64\n",
       "pre_score           float64\n",
       "post_score          float64\n",
       "pre_requirement      object\n",
       "department           object\n",
       "dtype: object"
      ]
     },
     "execution_count": 20,
     "metadata": {},
     "output_type": "execute_result"
    }
   ],
   "source": [
    "df.dtypes"
   ]
  },
  {
   "cell_type": "code",
   "execution_count": 21,
   "metadata": {},
   "outputs": [
    {
     "name": "stdout",
     "output_type": "stream",
     "text": [
      "post_score\n",
      "NaN      185\n",
      "72.0      82\n",
      "76.0      78\n",
      "79.0      77\n",
      "73.0      74\n",
      "80.0      74\n",
      "71.0      72\n",
      "77.0      72\n",
      "81.0      72\n",
      "75.0      68\n",
      "74.0      67\n",
      "78.0      67\n",
      "68.0      66\n",
      "69.0      64\n",
      "66.0      59\n",
      "70.0      55\n",
      "67.0      54\n",
      "82.0      54\n",
      "86.0      42\n",
      "84.0      42\n",
      "83.0      38\n",
      "65.0      36\n",
      "87.0      33\n",
      "85.0      32\n",
      "61.0      31\n",
      "63.0      30\n",
      "62.0      26\n",
      "89.0      25\n",
      "64.0      24\n",
      "88.0      18\n",
      "90.0      17\n",
      "60.0      16\n",
      "92.0      13\n",
      "59.0      12\n",
      "57.0      10\n",
      "98.0      10\n",
      "94.0       9\n",
      "55.0       7\n",
      "95.0       6\n",
      "96.0       5\n",
      "93.0       5\n",
      "97.0       4\n",
      "91.0       4\n",
      "58.0       3\n",
      "56.0       2\n",
      "54.0       2\n",
      "51.0       1\n",
      "105.0      1\n",
      "99.0       1\n",
      "100.0      1\n",
      "53.0       1\n",
      "102.0      1\n",
      "101.0      1\n",
      "103.0      1\n",
      "Name: count, dtype: int64\n"
     ]
    }
   ],
   "source": [
    "print(df.post_score.value_counts(dropna=False))"
   ]
  },
  {
   "cell_type": "code",
   "execution_count": 22,
   "metadata": {},
   "outputs": [
    {
     "data": {
      "text/plain": [
       "20     NaN\n",
       "33     NaN\n",
       "40     NaN\n",
       "61     NaN\n",
       "94     NaN\n",
       "        ..\n",
       "1795   NaN\n",
       "1799   NaN\n",
       "1801   NaN\n",
       "1812   NaN\n",
       "1822   NaN\n",
       "Name: post_score, Length: 185, dtype: float64"
      ]
     },
     "execution_count": 22,
     "metadata": {},
     "output_type": "execute_result"
    }
   ],
   "source": [
    "df['post_score'][df.post_score.apply(lambda x: re.search(\"^\\d\",str(x))==None)]"
   ]
  },
  {
   "cell_type": "code",
   "execution_count": 23,
   "metadata": {},
   "outputs": [
    {
     "data": {
      "text/plain": [
       "pre_requirement\n",
       "NaN             891\n",
       "Beginner        654\n",
       "Intermediate    305\n",
       "Name: count, dtype: int64"
      ]
     },
     "execution_count": 23,
     "metadata": {},
     "output_type": "execute_result"
    }
   ],
   "source": [
    "df.pre_requirement.value_counts(dropna=False)"
   ]
  },
  {
   "cell_type": "code",
   "execution_count": 24,
   "metadata": {},
   "outputs": [
    {
     "data": {
      "text/plain": [
       "department\n",
       "Technology     719\n",
       "Science        472\n",
       "Mathematics    220\n",
       "Math           220\n",
       "Engineering    219\n",
       "Name: count, dtype: int64"
      ]
     },
     "execution_count": 24,
     "metadata": {},
     "output_type": "execute_result"
    }
   ],
   "source": [
    "df.department.value_counts(dropna=False)"
   ]
  },
  {
   "cell_type": "code",
   "execution_count": 25,
   "metadata": {},
   "outputs": [],
   "source": [
    "df.department.replace('Math' , 'Mathematics' , inplace=True)"
   ]
  },
  {
   "cell_type": "code",
   "execution_count": 26,
   "metadata": {},
   "outputs": [
    {
     "data": {
      "text/plain": [
       "department\n",
       "Technology     719\n",
       "Science        472\n",
       "Mathematics    440\n",
       "Engineering    219\n",
       "Name: count, dtype: int64"
      ]
     },
     "execution_count": 26,
     "metadata": {},
     "output_type": "execute_result"
    }
   ],
   "source": [
    "df.department.value_counts(dropna=False)"
   ]
  },
  {
   "cell_type": "markdown",
   "metadata": {},
   "source": [
    "The course_id column only has unique values.\n",
    "The course type column has values which are either \"online\" or \"classroom\". \n",
    "The year column has values ranging from 2011 to 2022. \n",
    "The enrollment_count column has discrete values. \n",
    "The department column had the value \"Math\" and \"Mathematics\" which were grouped into the value \"Math\" to match the description given. \n",
    "\n",
    "All values of all columns now match the description given in the table"
   ]
  },
  {
   "cell_type": "markdown",
   "metadata": {},
   "source": [
    "<h4> 2. Replacing Missing values </h4>"
   ]
  },
  {
   "cell_type": "code",
   "execution_count": 27,
   "metadata": {},
   "outputs": [],
   "source": [
    "df.pre_score.fillna(0,inplace=True) #Replace missing values with 0."
   ]
  },
  {
   "cell_type": "code",
   "execution_count": 28,
   "metadata": {},
   "outputs": [],
   "source": [
    "df.post_score.fillna(0,inplace=True) #Replace missing values with 0."
   ]
  },
  {
   "cell_type": "code",
   "execution_count": 29,
   "metadata": {},
   "outputs": [],
   "source": [
    "df.pre_requirement.fillna(\"None\",inplace=True)"
   ]
  },
  {
   "cell_type": "code",
   "execution_count": 30,
   "metadata": {},
   "outputs": [
    {
     "data": {
      "text/plain": [
       "course_id           0\n",
       "course_type         0\n",
       "year                0\n",
       "enrollment_count    0\n",
       "pre_score           0\n",
       "post_score          0\n",
       "pre_requirement     0\n",
       "department          0\n",
       "dtype: int64"
      ]
     },
     "execution_count": 30,
     "metadata": {},
     "output_type": "execute_result"
    }
   ],
   "source": [
    "df.isnull().sum()"
   ]
  },
  {
   "cell_type": "markdown",
   "metadata": {},
   "source": [
    "<h4> 3. Data Visualisation </h4> "
   ]
  },
  {
   "cell_type": "code",
   "execution_count": 31,
   "metadata": {},
   "outputs": [
    {
     "data": {
      "text/plain": [
       "Text(0.5, 9.444444444444438, 'Enrollments')"
      ]
     },
     "execution_count": 31,
     "metadata": {},
     "output_type": "execute_result"
    },
    {
     "data": {
      "image/png": "[encoded data removed]",
      "text/plain": [
       "<Figure size 500x500 with 1 Axes>"
      ]
     },
     "metadata": {},
     "output_type": "display_data"
    }
   ],
   "source": [
    "sns.set_style('whitegrid')\n",
    "sns.displot(data=df,x='enrollment_count')\n",
    "plt.title('Distribution of Enrollment Count')\n",
    "plt.xlabel('Enrollments')"
   ]
  },
  {
   "cell_type": "markdown",
   "metadata": {},
   "source": [
    "The distribution is very disperse where the max is for enrollement = 250 and the lowest are for values between 190 and 230 with 0 enrollements"
   ]
  },
  {
   "cell_type": "code",
   "execution_count": 32,
   "metadata": {},
   "outputs": [
    {
     "data": {
      "text/plain": [
       "Text(0.5, 1.0, 'Number of courses by type')"
      ]
     },
     "execution_count": 32,
     "metadata": {},
     "output_type": "execute_result"
    },
    {
     "data": {
      "image/png": "[encoded data removed]",
      "text/plain": [
       "<Figure size 640x480 with 1 Axes>"
      ]
     },
     "metadata": {},
     "output_type": "display_data"
    }
   ],
   "source": [
    "sns.histplot(data=df,x=\"course_type\")\n",
    "plt.title('Number of courses by type')"
   ]
  },
  {
   "cell_type": "markdown",
   "metadata": {},
   "source": [
    "a. Online courses have more the most observations <br>\n",
    "b. The observations are not balanced across the course types because Online courses has way more observations and it's not even close"
   ]
  },
  {
   "cell_type": "code",
   "execution_count": 33,
   "metadata": {},
   "outputs": [
    {
     "data": {
      "text/plain": [
       "<AxesSubplot: xlabel='course_type', ylabel='enrollment_count'>"
      ]
     },
     "execution_count": 33,
     "metadata": {},
     "output_type": "execute_result"
    },
    {
     "data": {
      "image/png": "[encoded data removed]",
      "text/plain": [
       "<Figure size 640x480 with 1 Axes>"
      ]
     },
     "metadata": {},
     "output_type": "display_data"
    }
   ],
   "source": [
    "sns.scatterplot(df,x=\"course_type\", y=\"enrollment_count\")"
   ]
  },
  {
   "cell_type": "markdown",
   "metadata": {},
   "source": [
    "The \"online\" type has more enrollment_count than the \"classroom\" type "
   ]
  },
  {
   "cell_type": "markdown",
   "metadata": {},
   "source": [
    "<h3> IV. Modeling </h3>"
   ]
  },
  {
   "cell_type": "markdown",
   "metadata": {},
   "source": [
    "We want to predict how many students will enroll. Therefore we're trying to guess a number. It's a regression problem (Supervised Learning)"
   ]
  },
  {
   "cell_type": "code",
   "execution_count": 34,
   "metadata": {},
   "outputs": [],
   "source": [
    "from sklearn.linear_model import LinearRegression\n",
    "from sklearn.preprocessing import LabelEncoder\n",
    "from sklearn.preprocessing import StandardScaler\n",
    "from sklearn.model_selection import train_test_split\n",
    "from sklearn.metrics import r2_score\n",
    "from sklearn.metrics import mean_squared_error as MSE\n",
    "from sklearn.ensemble import RandomForestRegressor"
   ]
  },
  {
   "cell_type": "code",
   "execution_count": 35,
   "metadata": {},
   "outputs": [],
   "source": [
    "df_Encoded=df.copy()"
   ]
  },
  {
   "cell_type": "code",
   "execution_count": 36,
   "metadata": {},
   "outputs": [],
   "source": [
    "lb=LabelEncoder()\n",
    "df_Encoded['course_type']=lb.fit_transform(df['course_type'])\n",
    "df_Encoded['pre_requirement']=lb.fit_transform(df['pre_requirement'])\n",
    "df_Encoded['department']=lb.fit_transform(df['department'])"
   ]
  },
  {
   "cell_type": "code",
   "execution_count": 37,
   "metadata": {},
   "outputs": [],
   "source": [
    "ss=StandardScaler()\n",
    "df_scaled = df_Encoded.copy()\n",
    "df_scaled[[\"year\", \"pre_score\", \"post_score\"]]=ss.fit_transform(df_Encoded[[\"year\", \"pre_score\", \"post_score\"]])"
   ]
  },
  {
   "cell_type": "code",
   "execution_count": 38,
   "metadata": {},
   "outputs": [
    {
     "data": {
      "text/html": [
       "<div>\n",
       "<style scoped>\n",
       "    .dataframe tbody tr th:only-of-type {\n",
       "        vertical-align: middle;\n",
       "    }\n",
       "\n",
       "    .dataframe tbody tr th {\n",
       "        vertical-align: top;\n",
       "    }\n",
       "\n",
       "    .dataframe thead th {\n",
       "        text-align: right;\n",
       "    }\n",
       "</style>\n",
       "<table border=\"1\" class=\"dataframe\">\n",
       "  <thead>\n",
       "    <tr style=\"text-align: right;\">\n",
       "      <th></th>\n",
       "      <th>course_id</th>\n",
       "      <th>course_type</th>\n",
       "      <th>year</th>\n",
       "      <th>enrollment_count</th>\n",
       "      <th>pre_score</th>\n",
       "      <th>post_score</th>\n",
       "      <th>pre_requirement</th>\n",
       "      <th>department</th>\n",
       "    </tr>\n",
       "  </thead>\n",
       "  <tbody>\n",
       "    <tr>\n",
       "      <th>0</th>\n",
       "      <td>1</td>\n",
       "      <td>0</td>\n",
       "      <td>0.457226</td>\n",
       "      <td>165</td>\n",
       "      <td>-0.586208</td>\n",
       "      <td>0.221836</td>\n",
       "      <td>0</td>\n",
       "      <td>2</td>\n",
       "    </tr>\n",
       "    <tr>\n",
       "      <th>1</th>\n",
       "      <td>2</td>\n",
       "      <td>0</td>\n",
       "      <td>1.037383</td>\n",
       "      <td>175</td>\n",
       "      <td>1.101017</td>\n",
       "      <td>0.764356</td>\n",
       "      <td>2</td>\n",
       "      <td>2</td>\n",
       "    </tr>\n",
       "    <tr>\n",
       "      <th>2</th>\n",
       "      <td>3</td>\n",
       "      <td>1</td>\n",
       "      <td>-0.122930</td>\n",
       "      <td>257</td>\n",
       "      <td>0.366416</td>\n",
       "      <td>0.513962</td>\n",
       "      <td>2</td>\n",
       "      <td>1</td>\n",
       "    </tr>\n",
       "    <tr>\n",
       "      <th>3</th>\n",
       "      <td>4</td>\n",
       "      <td>1</td>\n",
       "      <td>-0.993165</td>\n",
       "      <td>251</td>\n",
       "      <td>1.689941</td>\n",
       "      <td>0.305300</td>\n",
       "      <td>0</td>\n",
       "      <td>3</td>\n",
       "    </tr>\n",
       "    <tr>\n",
       "      <th>4</th>\n",
       "      <td>5</td>\n",
       "      <td>0</td>\n",
       "      <td>0.747304</td>\n",
       "      <td>165</td>\n",
       "      <td>-0.206141</td>\n",
       "      <td>0.347033</td>\n",
       "      <td>0</td>\n",
       "      <td>2</td>\n",
       "    </tr>\n",
       "    <tr>\n",
       "      <th>...</th>\n",
       "      <td>...</td>\n",
       "      <td>...</td>\n",
       "      <td>...</td>\n",
       "      <td>...</td>\n",
       "      <td>...</td>\n",
       "      <td>...</td>\n",
       "      <td>...</td>\n",
       "      <td>...</td>\n",
       "    </tr>\n",
       "    <tr>\n",
       "      <th>1845</th>\n",
       "      <td>1846</td>\n",
       "      <td>0</td>\n",
       "      <td>0.457226</td>\n",
       "      <td>155</td>\n",
       "      <td>0.457095</td>\n",
       "      <td>0.555695</td>\n",
       "      <td>1</td>\n",
       "      <td>2</td>\n",
       "    </tr>\n",
       "    <tr>\n",
       "      <th>1846</th>\n",
       "      <td>1847</td>\n",
       "      <td>1</td>\n",
       "      <td>-0.122930</td>\n",
       "      <td>261</td>\n",
       "      <td>1.578638</td>\n",
       "      <td>0.722624</td>\n",
       "      <td>2</td>\n",
       "      <td>3</td>\n",
       "    </tr>\n",
       "    <tr>\n",
       "      <th>1847</th>\n",
       "      <td>1848</td>\n",
       "      <td>1</td>\n",
       "      <td>-1.573322</td>\n",
       "      <td>257</td>\n",
       "      <td>0.980547</td>\n",
       "      <td>0.555695</td>\n",
       "      <td>2</td>\n",
       "      <td>1</td>\n",
       "    </tr>\n",
       "    <tr>\n",
       "      <th>1848</th>\n",
       "      <td>1849</td>\n",
       "      <td>1</td>\n",
       "      <td>-0.993165</td>\n",
       "      <td>256</td>\n",
       "      <td>-0.830748</td>\n",
       "      <td>-0.070291</td>\n",
       "      <td>2</td>\n",
       "      <td>1</td>\n",
       "    </tr>\n",
       "    <tr>\n",
       "      <th>1849</th>\n",
       "      <td>1850</td>\n",
       "      <td>1</td>\n",
       "      <td>0.167148</td>\n",
       "      <td>256</td>\n",
       "      <td>-0.932230</td>\n",
       "      <td>0.180103</td>\n",
       "      <td>2</td>\n",
       "      <td>1</td>\n",
       "    </tr>\n",
       "  </tbody>\n",
       "</table>\n",
       "<p>1850 rows × 8 columns</p>\n",
       "</div>"
      ],
      "text/plain": [
       "      course_id  course_type      year  enrollment_count  pre_score  \\\n",
       "0             1            0  0.457226               165  -0.586208   \n",
       "1             2            0  1.037383               175   1.101017   \n",
       "2             3            1 -0.122930               257   0.366416   \n",
       "3             4            1 -0.993165               251   1.689941   \n",
       "4             5            0  0.747304               165  -0.206141   \n",
       "...         ...          ...       ...               ...        ...   \n",
       "1845       1846            0  0.457226               155   0.457095   \n",
       "1846       1847            1 -0.122930               261   1.578638   \n",
       "1847       1848            1 -1.573322               257   0.980547   \n",
       "1848       1849            1 -0.993165               256  -0.830748   \n",
       "1849       1850            1  0.167148               256  -0.932230   \n",
       "\n",
       "      post_score  pre_requirement  department  \n",
       "0       0.221836                0           2  \n",
       "1       0.764356                2           2  \n",
       "2       0.513962                2           1  \n",
       "3       0.305300                0           3  \n",
       "4       0.347033                0           2  \n",
       "...          ...              ...         ...  \n",
       "1845    0.555695                1           2  \n",
       "1846    0.722624                2           3  \n",
       "1847    0.555695                2           1  \n",
       "1848   -0.070291                2           1  \n",
       "1849    0.180103                2           1  \n",
       "\n",
       "[1850 rows x 8 columns]"
      ]
     },
     "execution_count": 38,
     "metadata": {},
     "output_type": "execute_result"
    }
   ],
   "source": [
    "df_scaled"
   ]
  },
  {
   "cell_type": "code",
   "execution_count": 39,
   "metadata": {},
   "outputs": [],
   "source": [
    "y=df_scaled['enrollment_count']\n",
    "X=df_scaled.drop(['enrollment_count','course_id'],axis=1)"
   ]
  },
  {
   "cell_type": "code",
   "execution_count": 40,
   "metadata": {},
   "outputs": [],
   "source": [
    "x_train , x_test  , y_train , y_test=train_test_split(X,y,test_size=0.3, random_state=42)"
   ]
  },
  {
   "cell_type": "markdown",
   "metadata": {},
   "source": [
    "<h4> 1. Linear Regression"
   ]
  },
  {
   "cell_type": "code",
   "execution_count": 41,
   "metadata": {},
   "outputs": [
    {
     "data": {
      "text/plain": [
       "LinearRegression()"
      ]
     },
     "execution_count": 41,
     "metadata": {},
     "output_type": "execute_result"
    }
   ],
   "source": [
    "LinReg = LinearRegression()\n",
    "LinReg.fit(x_train,y_train)"
   ]
  },
  {
   "cell_type": "code",
   "execution_count": 42,
   "metadata": {},
   "outputs": [],
   "source": [
    "LinReg_pred=LinReg.predict(x_test)"
   ]
  },
  {
   "cell_type": "code",
   "execution_count": 48,
   "metadata": {},
   "outputs": [
    {
     "name": "stdout",
     "output_type": "stream",
     "text": [
      "R2 score : 95.6613125710979 \n",
      "MSE Score : 56.60495425737754 \n"
     ]
    }
   ],
   "source": [
    "print (\"R2 score : {} \\nMSE Score : {} \".format(r2_score(y_test,LinReg_pred)*100 ,MSE (y_test,LinReg_pred) ))"
   ]
  },
  {
   "cell_type": "code",
   "execution_count": 49,
   "metadata": {},
   "outputs": [
    {
     "data": {
      "text/plain": [
       "56.60495425737754"
      ]
     },
     "execution_count": 49,
     "metadata": {},
     "output_type": "execute_result"
    }
   ],
   "source": [
    "MSE (y_test,LinReg_pred)"
   ]
  },
  {
   "cell_type": "markdown",
   "metadata": {},
   "source": [
    "<h4> 2. Random Forest Regressor"
   ]
  },
  {
   "cell_type": "code",
   "execution_count": 50,
   "metadata": {},
   "outputs": [],
   "source": [
    "ForReg=RandomForestRegressor(n_estimators=100)"
   ]
  },
  {
   "cell_type": "code",
   "execution_count": 51,
   "metadata": {},
   "outputs": [
    {
     "data": {
      "text/plain": [
       "RandomForestRegressor()"
      ]
     },
     "execution_count": 51,
     "metadata": {},
     "output_type": "execute_result"
    }
   ],
   "source": [
    "ForReg.fit(x_train,y_train)"
   ]
  },
  {
   "cell_type": "code",
   "execution_count": 52,
   "metadata": {},
   "outputs": [],
   "source": [
    "ForReg_pred=ForReg.predict(x_test)"
   ]
  },
  {
   "cell_type": "code",
   "execution_count": 55,
   "metadata": {},
   "outputs": [
    {
     "name": "stdout",
     "output_type": "stream",
     "text": [
      "R2 score : 99.99080574021507 \n",
      "MSE Score : 0.11995347972972913 \n"
     ]
    }
   ],
   "source": [
    "print (\"R2 score : {} \\nMSE Score : {} \".format(r2_score(y_test,ForReg_pred)*100 ,MSE (y_test,ForReg_pred) ))"
   ]
  },
  {
   "cell_type": "markdown",
   "metadata": {},
   "source": [
    "I chose the LinearRegression and RandomForestRegression models as they are the most known models to for regression and they're the most appropriate "
   ]
  },
  {
   "cell_type": "markdown",
   "metadata": {},
   "source": [
    "The RandomForestRegressor presents less Mean squared error and a higher R2 score therefore it is more accurate and better using these scores. "
   ]
  }
 ],
 "metadata": {
  "kernelspec": {
   "display_name": "base",
   "language": "python",
   "name": "python3"
  },
  "language_info": {
   "codemirror_mode": {
    "name": "ipython",
    "version": 3
   },
   "file_extension": ".py",
   "mimetype": "text/x-python",
   "name": "python",
   "nbconvert_exporter": "python",
   "pygments_lexer": "ipython3",
   "version": "3.9.16"
  },
  "orig_nbformat": 4
 },
 "nbformat": 4,
 "nbformat_minor": 2
}
